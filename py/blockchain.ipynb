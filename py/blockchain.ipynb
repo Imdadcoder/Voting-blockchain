{
 "cells": [
  {
   "cell_type": "code",
   "execution_count": 1,
   "metadata": {},
   "outputs": [
    {
     "name": "stdout",
     "output_type": "stream",
     "text": [
      "True\n"
     ]
    }
   ],
   "source": [
    "\n",
    "import os\n",
    "from pathlib import Path\n",
    "from web3 import Web3\n",
    "import json\n",
    "\n",
    "\n",
    "url = \"http://localhost:7545\"\n",
    "web3 = Web3(Web3.HTTPProvider(url))\n",
    "print(web3.isConnected())\n",
    "web3.eth.defaultAccount = web3.eth.accounts[0]\n",
    "address=web3.toChecksumAddress('0xd2B6042BA91C83859F78fe7A689Ea8D87FaB2816')\n",
    "abi = json.loads('[{\"constant\":true,\"inputs\":[],\"name\":\"get_data\",\"outputs\":[{\"name\":\"\",\"type\":\"string\"}],\"payable\":false,\"stateMutability\":\"view\",\"type\":\"function\"},{\"constant\":false,\"inputs\":[{\"name\":\"_name\",\"type\":\"string\"}],\"name\":\"set_data\",\"outputs\":[],\"payable\":false,\"stateMutability\":\"nonpayable\",\"type\":\"function\"},{\"constant\":true,\"inputs\":[],\"name\":\"data\",\"outputs\":[{\"name\":\"\",\"type\":\"string\"}],\"payable\":false,\"stateMutability\":\"view\",\"type\":\"function\"}]')\n",
    "contract = web3.eth.contract(address=address, abi=abi)\n",
    "\n",
    "\n"
   ]
  },
  {
   "cell_type": "code",
   "execution_count": 2,
   "metadata": {},
   "outputs": [],
   "source": [
    "def transfer_ethers(from_ac,to_ac,pkey,amt):\n",
    "    account_1 = from_ac\n",
    "    account_2 = to_ac\n",
    "    private_key = pkey\n",
    "    nonce = web3.eth.getTransactionCount(account_1)\n",
    "    tx = {\n",
    "    'nonce': nonce,\n",
    "    'to': account_2,\n",
    "    'value': web3.toWei(amt, 'ether'),\n",
    "    'gas': 2000000,\n",
    "    'gasPrice': web3.toWei('2', 'gwei'),\n",
    "    }\n",
    "    signed_tx = web3.eth.account.signTransaction(tx, private_key)\n",
    "\n",
    "    tx_hash = web3.eth.sendRawTransaction(signed_tx.rawTransaction)\n",
    "\n",
    "    print(web3.toHex(tx_hash))"
   ]
  },
  {
   "cell_type": "code",
   "execution_count": null,
   "metadata": {},
   "outputs": [
    {
     "name": "stdout",
     "output_type": "stream",
     "text": [
      "old data \n",
      "resp= b\"\\xc0i\\xbe\\xcc\\xfc\\x15\\xe1'\\x9b\\xd8\\xbcy!\\xd3\\xc6\\xe5R\\xc9\\xa0=\\x8f\\xe0\\x0b\\xda\\x8c\\x1d\\xe3\\xdb\\x82\\x94\\x110\"\n"
     ]
    }
   ],
   "source": [
    "while True:\n",
    "    f=open('task.txt','r')\n",
    "    task=f.read()\n",
    "    f.close()\n",
    "    if task=='upload':\n",
    "        f=open('data.txt','r')\n",
    "        product_details=f.read()\n",
    "        f.close()\n",
    "        chain_data=contract.functions.get_data().call()\n",
    "        print(\"old data\",chain_data)\n",
    "        new_data=chain_data+\"%%@@\"+product_details\n",
    "        resp = contract.functions.set_data(new_data).transact()\n",
    "        web3.eth.waitForTransactionReceipt(resp)\n",
    "        print('resp=',resp)\n",
    "        \n",
    "        \n",
    "\n",
    "        f=open('task.txt','w')\n",
    "        f.write('')\n",
    "        f.close()\n",
    "    \n",
    "    if task=='download':\n",
    "       \n",
    "        \n",
    "        chain_data=contract.functions.get_data().call()\n",
    "        print(\"old data\",chain_data)\n",
    "        l=chain_data.split('%%@@')\n",
    "        details=''\n",
    "        \n",
    "       \n",
    "        f=open('task.txt','w')\n",
    "        f.write('')\n",
    "        f.close()\n",
    "        f=open('results.txt','w')\n",
    "        f.write(chain_data)\n",
    "        f.close()\n",
    "    if task=='transfer':\n",
    "        f=open('ac_details.txt','r')\n",
    "        ac_details=f.read()\n",
    "        f.close()\n",
    "        l=ac_details.split('#@')\n",
    "        transfer_ethers(l[0],l[1],l[2],l[3])\n",
    "        f=open('task.txt','w')\n",
    "        f.write('')\n",
    "        f.close()\n",
    "        \n",
    "        \n",
    "                \n",
    "        \n",
    "                "
   ]
  },
  {
   "cell_type": "code",
   "execution_count": null,
   "metadata": {},
   "outputs": [],
   "source": []
  },
  {
   "cell_type": "code",
   "execution_count": null,
   "metadata": {},
   "outputs": [],
   "source": []
  }
 ],
 "metadata": {
  "kernelspec": {
   "display_name": "Python 3 (ipykernel)",
   "language": "python",
   "name": "python3"
  },
  "language_info": {
   "codemirror_mode": {
    "name": "ipython",
    "version": 3
   },
   "file_extension": ".py",
   "mimetype": "text/x-python",
   "name": "python",
   "nbconvert_exporter": "python",
   "pygments_lexer": "ipython3",
   "version": "3.12.7"
  }
 },
 "nbformat": 4,
 "nbformat_minor": 4
}
